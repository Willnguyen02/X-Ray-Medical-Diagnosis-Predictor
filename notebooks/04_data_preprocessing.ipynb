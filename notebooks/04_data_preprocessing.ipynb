{
 "cells": [
  {
   "cell_type": "markdown",
   "id": "cbcfe8eb",
   "metadata": {},
   "source": [
    "# Data Preprocessing and Splitting\n",
    "---"
   ]
  },
  {
   "cell_type": "code",
   "execution_count": 1,
   "id": "dde55109",
   "metadata": {},
   "outputs": [],
   "source": [
    "# import libraries\n",
    "import pandas as pd\n",
    "from sklearn.model_selection import train_test_split\n",
    "import warnings\n",
    "warnings.filterwarnings(\"ignore\")"
   ]
  },
  {
   "cell_type": "code",
   "execution_count": 2,
   "id": "a9c7c826",
   "metadata": {},
   "outputs": [],
   "source": [
    "# load data\n",
    "\n",
    "bbox_df = pd.read_pickle('../data/interim/bbox_df.pkl')\n",
    "data_entry_df = pd.read_pickle('../data/interim/data_entry_df.pkl')\n",
    "train_val_list = pd.read_pickle('../data/interim/train_val_list.pkl')\n",
    "test_list = pd.read_pickle('../data/interim/test_list.pkl')"
   ]
  },
  {
   "cell_type": "code",
   "execution_count": 3,
   "id": "7910ecac",
   "metadata": {},
   "outputs": [
    {
     "data": {
      "text/plain": [
       "'\\nlabels_exploded = data_entry_df[\"finding_labels\"].str.split(\\'|\\').explode()\\nlen(labels_exploded.unique())\\n'"
      ]
     },
     "execution_count": 3,
     "metadata": {},
     "output_type": "execute_result"
    }
   ],
   "source": [
    "# split multi-labeled data up\n",
    "\n",
    "\"\"\"\n",
    "labels_exploded = data_entry_df[\"finding_labels\"].str.split('|').explode()\n",
    "len(labels_exploded.unique())\n",
    "\"\"\""
   ]
  },
  {
   "cell_type": "code",
   "execution_count": 4,
   "id": "d249543b",
   "metadata": {},
   "outputs": [
    {
     "data": {
      "text/plain": [
       "'\\n\\n# extracted the targeted images\\ntargeted_imgs = list(data_entry_df[\"image_index\"])\\n\\n# extract only the images folders paths from kaggle and store it in a list\\nfolder_paths = []\\n\\nfor folder in os.listdir(path):\\n\\n    if folder.startswith(\"images\") == True:\\n        f_path = os.path.join(path, folder, \"images\")\\n        folder_paths.append(f_path)\\n\\n\\n# search folders based on targeted images\\nparent_folders = []\\n\\nfor img in targeted_imgs:\\n    found = False\\n    for folder in folder_paths:\\n        if img in os.listdir(folder):\\n            parent_folders.append(os.path.basename(os.path.dirname(folder)))\\n            found = True\\n            break  \\n    if not found:\\n        print(f\"Not found: {img}\")\\n\\n# create a dataframe \\nparent_folders_df = pd.DataFrame({\\n    \"image_index\": targeted_imgs,\\n    \"folders\": parent_folders\\n})\\n\\n\\n\\n'"
      ]
     },
     "execution_count": 4,
     "metadata": {},
     "output_type": "execute_result"
    }
   ],
   "source": [
    "# [add folder numbers to the dataset]\n",
    "\n",
    "\"\"\"\n",
    "\n",
    "# extracted the targeted images\n",
    "targeted_imgs = list(data_entry_df[\"image_index\"])\n",
    "\n",
    "# extract only the images folders paths from kaggle and store it in a list\n",
    "folder_paths = []\n",
    "\n",
    "for folder in os.listdir(path):\n",
    "\n",
    "    if folder.startswith(\"images\") == True:\n",
    "        f_path = os.path.join(path, folder, \"images\")\n",
    "        folder_paths.append(f_path)\n",
    "\n",
    "\n",
    "# search folders based on targeted images\n",
    "parent_folders = []\n",
    "\n",
    "for img in targeted_imgs:\n",
    "    found = False\n",
    "    for folder in folder_paths:\n",
    "        if img in os.listdir(folder):\n",
    "            parent_folders.append(os.path.basename(os.path.dirname(folder)))\n",
    "            found = True\n",
    "            break  \n",
    "    if not found:\n",
    "        print(f\"Not found: {img}\")\n",
    "\n",
    "# create a dataframe \n",
    "parent_folders_df = pd.DataFrame({\n",
    "    \"image_index\": targeted_imgs,\n",
    "    \"folders\": parent_folders\n",
    "})\n",
    "\n",
    "\n",
    "\n",
    "\"\"\""
   ]
  },
  {
   "cell_type": "code",
   "execution_count": 5,
   "id": "7f11c767",
   "metadata": {},
   "outputs": [],
   "source": [
    "# note: during data splitting, do an 80/20 split based on the data listed in the train_val_list file. use the test_list file for model evaluation"
   ]
  }
 ],
 "metadata": {
  "kernelspec": {
   "display_name": "base",
   "language": "python",
   "name": "python3"
  },
  "language_info": {
   "codemirror_mode": {
    "name": "ipython",
    "version": 3
   },
   "file_extension": ".py",
   "mimetype": "text/x-python",
   "name": "python",
   "nbconvert_exporter": "python",
   "pygments_lexer": "ipython3",
   "version": "3.12.4"
  }
 },
 "nbformat": 4,
 "nbformat_minor": 5
}
