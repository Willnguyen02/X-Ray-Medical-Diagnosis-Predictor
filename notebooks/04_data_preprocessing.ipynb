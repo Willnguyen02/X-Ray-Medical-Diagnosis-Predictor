{
 "cells": [
  {
   "cell_type": "markdown",
   "id": "cbcfe8eb",
   "metadata": {},
   "source": [
    "# Data Preprocessing and Splitting\n",
    "---"
   ]
  },
  {
   "cell_type": "code",
   "execution_count": 2,
   "id": "dde55109",
   "metadata": {},
   "outputs": [
    {
     "name": "stdout",
     "output_type": "stream",
     "text": [
      "Warning: Looks like you're using an outdated `kagglehub` version (installed: 0.3.11), please consider upgrading to the latest version (0.3.12).\n",
      "Warning: Looks like you're using an outdated `kagglehub` version (installed: 0.3.11), please consider upgrading to the latest version (0.3.12).\n"
     ]
    }
   ],
   "source": [
    "# import libraries\n",
    "import os\n",
    "from PIL import Image\n",
    "import pandas as pd\n",
    "import matplotlib.pyplot as plt\n",
    "import seaborn as sns\n",
    "from sklearn.model_selection import train_test_split\n",
    "from sklearn.preprocessing import MultiLabelBinarizer\n",
    "from sklearn.preprocessing import StandardScaler\n",
    "import warnings\n",
    "warnings.filterwarnings(\"ignore\")\n",
    "\n",
    "from sklearn.preprocessing import LabelEncoder\n",
    "label_encoder = LabelEncoder()\n",
    "\n",
    "import sys\n",
    "sys.path.append('../scripts')\n",
    "from data_utils import path, column_order, labels\n",
    "from extract_imgs import find_img_folder, locate_imgs"
   ]
  },
  {
   "cell_type": "code",
   "execution_count": 11,
   "id": "a9c7c826",
   "metadata": {},
   "outputs": [],
   "source": [
    "# load data\n",
    "\n",
    "data_entry_df = pd.read_pickle('../data/interim/data_entry_df.pkl')\n",
    "patient_data = pd.read_pickle('../data/interim/patient_data.pkl')\n",
    "train_val_labels = pd.read_csv('../data/labels/train_val_labels.csv', index_col=0)\n",
    "test_labels = pd.read_csv('../data/labels/test_labels.csv', index_col=0)"
   ]
  },
  {
   "cell_type": "code",
   "execution_count": 12,
   "id": "bfec9caf",
   "metadata": {},
   "outputs": [
    {
     "name": "stdout",
     "output_type": "stream",
     "text": [
      "Category mapping:\n",
      "F: 0\n",
      "M: 1\n",
      "Category mapping:\n",
      "AP: 0\n",
      "PA: 1\n"
     ]
    },
    {
     "data": {
      "text/html": [
       "<div>\n",
       "<style scoped>\n",
       "    .dataframe tbody tr th:only-of-type {\n",
       "        vertical-align: middle;\n",
       "    }\n",
       "\n",
       "    .dataframe tbody tr th {\n",
       "        vertical-align: top;\n",
       "    }\n",
       "\n",
       "    .dataframe thead th {\n",
       "        text-align: right;\n",
       "    }\n",
       "</style>\n",
       "<table border=\"1\" class=\"dataframe\">\n",
       "  <thead>\n",
       "    <tr style=\"text-align: right;\">\n",
       "      <th></th>\n",
       "      <th>patient_gender</th>\n",
       "      <th>view_position</th>\n",
       "    </tr>\n",
       "  </thead>\n",
       "  <tbody>\n",
       "    <tr>\n",
       "      <th>0</th>\n",
       "      <td>0</td>\n",
       "      <td>1</td>\n",
       "    </tr>\n",
       "    <tr>\n",
       "      <th>1</th>\n",
       "      <td>0</td>\n",
       "      <td>1</td>\n",
       "    </tr>\n",
       "    <tr>\n",
       "      <th>2</th>\n",
       "      <td>0</td>\n",
       "      <td>1</td>\n",
       "    </tr>\n",
       "    <tr>\n",
       "      <th>3</th>\n",
       "      <td>0</td>\n",
       "      <td>1</td>\n",
       "    </tr>\n",
       "    <tr>\n",
       "      <th>4</th>\n",
       "      <td>0</td>\n",
       "      <td>1</td>\n",
       "    </tr>\n",
       "  </tbody>\n",
       "</table>\n",
       "</div>"
      ],
      "text/plain": [
       "   patient_gender  view_position\n",
       "0               0              1\n",
       "1               0              1\n",
       "2               0              1\n",
       "3               0              1\n",
       "4               0              1"
      ]
     },
     "execution_count": 12,
     "metadata": {},
     "output_type": "execute_result"
    }
   ],
   "source": [
    "# encode patient_gender and view_position columns (test_label)\n",
    "\n",
    "test_labels[\"patient_gender\"] = label_encoder.fit_transform(test_labels[\"patient_gender\"])\n",
    "print(\"Category mapping:\")\n",
    "for i, category in enumerate(label_encoder.classes_):\n",
    "    print(f\"{category}: {i}\")\n",
    "\n",
    "test_labels[\"view_position\"] = label_encoder.fit_transform(test_labels[\"view_position\"])\n",
    "print(\"Category mapping:\")\n",
    "for i, category in enumerate(label_encoder.classes_):\n",
    "    print(f\"{category}: {i}\")\n",
    "\n",
    "test_labels[[\"patient_gender\", \"view_position\"]].head()"
   ]
  },
  {
   "cell_type": "code",
   "execution_count": null,
   "id": "b17ed049",
   "metadata": {},
   "outputs": [
    {
     "name": "stdout",
     "output_type": "stream",
     "text": [
      "Category mapping:\n",
      "F: 0\n",
      "M: 1\n",
      "Category mapping:\n",
      "AP: 0\n",
      "PA: 1\n"
     ]
    },
    {
     "data": {
      "text/html": [
       "<div>\n",
       "<style scoped>\n",
       "    .dataframe tbody tr th:only-of-type {\n",
       "        vertical-align: middle;\n",
       "    }\n",
       "\n",
       "    .dataframe tbody tr th {\n",
       "        vertical-align: top;\n",
       "    }\n",
       "\n",
       "    .dataframe thead th {\n",
       "        text-align: right;\n",
       "    }\n",
       "</style>\n",
       "<table border=\"1\" class=\"dataframe\">\n",
       "  <thead>\n",
       "    <tr style=\"text-align: right;\">\n",
       "      <th></th>\n",
       "      <th>patient_gender</th>\n",
       "      <th>view_position</th>\n",
       "    </tr>\n",
       "  </thead>\n",
       "  <tbody>\n",
       "    <tr>\n",
       "      <th>0</th>\n",
       "      <td>1</td>\n",
       "      <td>1</td>\n",
       "    </tr>\n",
       "    <tr>\n",
       "      <th>1</th>\n",
       "      <td>1</td>\n",
       "      <td>1</td>\n",
       "    </tr>\n",
       "    <tr>\n",
       "      <th>2</th>\n",
       "      <td>1</td>\n",
       "      <td>1</td>\n",
       "    </tr>\n",
       "    <tr>\n",
       "      <th>3</th>\n",
       "      <td>1</td>\n",
       "      <td>1</td>\n",
       "    </tr>\n",
       "    <tr>\n",
       "      <th>4</th>\n",
       "      <td>1</td>\n",
       "      <td>0</td>\n",
       "    </tr>\n",
       "  </tbody>\n",
       "</table>\n",
       "</div>"
      ],
      "text/plain": [
       "   patient_gender  view_position\n",
       "0               1              1\n",
       "1               1              1\n",
       "2               1              1\n",
       "3               1              1\n",
       "4               1              0"
      ]
     },
     "execution_count": 13,
     "metadata": {},
     "output_type": "execute_result"
    }
   ],
   "source": [
    "# encode patient_gender and view_position columns (train_val_label)\n",
    "\n",
    "train_val_labels[\"patient_gender\"] = label_encoder.fit_transform(train_val_labels[\"patient_gender\"])\n",
    "print(\"Category mapping:\")\n",
    "for i, category in enumerate(label_encoder.classes_):\n",
    "    print(f\"{category}: {i}\")\n",
    "\n",
    "train_val_labels[\"view_position\"] = label_encoder.fit_transform(train_val_labels[\"view_position\"])\n",
    "print(\"Category mapping:\")\n",
    "for i, category in enumerate(label_encoder.classes_):\n",
    "    print(f\"{category}: {i}\")\n",
    "\n",
    "train_val_labels[[\"patient_gender\", \"view_position\"]].head()"
   ]
  },
  {
   "cell_type": "markdown",
   "id": "91036c99",
   "metadata": {},
   "source": [
    "### Data Splitting\n",
    "- Note: Data splits have provided by the NIH (train_val_list.txt and test_list.txt), spliting of the train_val set into training and validation sets is still neccessary\n",
    "\n",
    "\n",
    "- Split \"test_labels\" and \"train_val_labels\" into two sets: image data and tabular data\n",
    "- The two dataset will be used to train two different models and eventually be combined (multimodal learning)"
   ]
  },
  {
   "cell_type": "code",
   "execution_count": 14,
   "id": "ea1ae4f5",
   "metadata": {},
   "outputs": [],
   "source": [
    "# replace \"image_index\" column with file path to each image\n",
    "test_labels = find_img_folder(test_labels)\n",
    "train_val_labels = find_img_folder(train_val_labels)\n",
    "\n",
    "def add_image_path(dataset):\n",
    "    \n",
    "    paths = []\n",
    "\n",
    "    for index, img in enumerate(dataset[\"image_index\"]):\n",
    "        folder = dataset.iloc[index,-1]\n",
    "        img_path = os.path.join(path, folder, \"images\", img)\n",
    "        paths.append(img_path)\n",
    "    \n",
    "    dataset.drop(columns=\"image_index\", inplace=True)\n",
    "    dataset.insert(0, \"image_path\", paths)\n",
    "        \n",
    "\n",
    "add_image_path(test_labels)\n",
    "add_image_path(train_val_labels)"
   ]
  },
  {
   "cell_type": "code",
   "execution_count": 15,
   "id": "2b6fa296",
   "metadata": {},
   "outputs": [],
   "source": [
    "# performed an 80-20 split based on unique patient id for the train_val set \n",
    "# prevents data leakage - all images from one patient must either be in the training set or validation set, not both\n",
    "\n",
    "train_ids, val_ids = train_test_split(train_val_labels[\"patient_id\"].unique(), test_size=0.2, random_state=42)\n",
    "train_labels = train_val_labels[train_val_labels[\"patient_id\"].isin(train_ids)].reset_index(drop=True)\n",
    "val_labels = train_val_labels[train_val_labels[\"patient_id\"].isin(val_ids)].reset_index(drop=True)"
   ]
  },
  {
   "cell_type": "markdown",
   "id": "18b0d66b",
   "metadata": {},
   "source": [
    "## Testing (sampling only 5000k images )"
   ]
  },
  {
   "cell_type": "code",
   "execution_count": 16,
   "id": "204254ab",
   "metadata": {},
   "outputs": [
    {
     "data": {
      "text/plain": [
       "(69354, 22)"
      ]
     },
     "execution_count": 16,
     "metadata": {},
     "output_type": "execute_result"
    }
   ],
   "source": [
    "train_labels.shape"
   ]
  },
  {
   "cell_type": "code",
   "execution_count": 17,
   "id": "f3521278",
   "metadata": {},
   "outputs": [
    {
     "data": {
      "text/plain": [
       "(17157, 22)"
      ]
     },
     "execution_count": 17,
     "metadata": {},
     "output_type": "execute_result"
    }
   ],
   "source": [
    "val_labels.shape"
   ]
  },
  {
   "cell_type": "code",
   "execution_count": 18,
   "id": "36b33390",
   "metadata": {},
   "outputs": [
    {
     "data": {
      "text/plain": [
       "(25591, 22)"
      ]
     },
     "execution_count": 18,
     "metadata": {},
     "output_type": "execute_result"
    }
   ],
   "source": [
    "test_labels.shape"
   ]
  },
  {
   "cell_type": "code",
   "execution_count": 19,
   "id": "fe6616a3",
   "metadata": {},
   "outputs": [],
   "source": [
    "# Group images by patient in train and val\n",
    "train_groups = train_labels.groupby('patient_id')\n",
    "val_groups = val_labels.groupby('patient_id')\n"
   ]
  },
  {
   "cell_type": "code",
   "execution_count": 20,
   "id": "91e63a9a",
   "metadata": {},
   "outputs": [],
   "source": [
    "def patient_label_agg(df):\n",
    "    return df.groupby('patient_id').agg({col: 'max' for col in labels}).reset_index()\n",
    "\n",
    "train_patient_labels = patient_label_agg(train_labels)\n",
    "val_patient_labels = patient_label_agg(val_labels)"
   ]
  },
  {
   "cell_type": "code",
   "execution_count": 21,
   "id": "5148ddeb",
   "metadata": {},
   "outputs": [],
   "source": [
    "from skmultilearn.model_selection import iterative_train_test_split\n",
    "import numpy as np\n",
    "\n",
    "# Define how many patients you want in your sampled subset\n",
    "num_train_patients = 2000  # Adjust based on average images per patient to get ~5k-10k images\n",
    "num_val_patients = 500\n",
    "\n",
    "# Prepare X and y for train\n",
    "X_train_patients = train_patient_labels['patient_id'].values.reshape(-1, 1)\n",
    "y_train_labels = train_patient_labels[labels].values\n",
    "\n",
    "# Sample subset of train patients with balanced labels using iterative stratification\n",
    "X_train_sampled, y_train_sampled, _, _ = iterative_train_test_split(\n",
    "    X_train_patients, y_train_labels, test_size = 1 - (num_train_patients / len(X_train_patients))\n",
    ")\n",
    "\n",
    "train_sampled_patients = X_train_sampled.flatten()\n",
    "\n",
    "# Same for validation\n",
    "X_val_patients = val_patient_labels['patient_id'].values.reshape(-1, 1)\n",
    "y_val_labels = val_patient_labels[labels].values\n",
    "\n",
    "X_val_sampled, y_val_sampled, _, _ = iterative_train_test_split(\n",
    "    X_val_patients, y_val_labels, test_size = 1 - (num_val_patients / len(X_val_patients))\n",
    ")\n",
    "\n",
    "val_sampled_patients = X_val_sampled.flatten()\n"
   ]
  },
  {
   "cell_type": "code",
   "execution_count": 22,
   "id": "e9f81a92",
   "metadata": {},
   "outputs": [],
   "source": [
    "train_sampled_df = train_labels[train_labels['patient_id'].isin(train_sampled_patients)].reset_index(drop=True)\n",
    "val_sampled_df = val_labels[val_labels['patient_id'].isin(val_sampled_patients)].reset_index(drop=True)"
   ]
  },
  {
   "cell_type": "code",
   "execution_count": 23,
   "id": "c67e9214",
   "metadata": {},
   "outputs": [
    {
     "data": {
      "text/plain": [
       "(6678, 22)"
      ]
     },
     "execution_count": 23,
     "metadata": {},
     "output_type": "execute_result"
    }
   ],
   "source": [
    "train_sampled_df.shape"
   ]
  },
  {
   "cell_type": "code",
   "execution_count": 24,
   "id": "2623f115",
   "metadata": {},
   "outputs": [
    {
     "data": {
      "text/plain": [
       "(1540, 22)"
      ]
     },
     "execution_count": 24,
     "metadata": {},
     "output_type": "execute_result"
    }
   ],
   "source": [
    "val_sampled_df.shape"
   ]
  },
  {
   "cell_type": "code",
   "execution_count": 25,
   "id": "1b6aca46",
   "metadata": {},
   "outputs": [
    {
     "data": {
      "text/plain": [
       "(25591, 22)"
      ]
     },
     "execution_count": 25,
     "metadata": {},
     "output_type": "execute_result"
    }
   ],
   "source": [
    "test_labels.shape"
   ]
  },
  {
   "cell_type": "code",
   "execution_count": 26,
   "id": "0115d12d",
   "metadata": {},
   "outputs": [],
   "source": [
    "test_cnn = test_labels.drop(columns=[\"follow_up_number\", \"patient_id\", \"patient_age\", \"patient_gender\", \"view_position\", \"src_folder\"], axis=1)\n",
    "test_tab = test_labels.drop(columns=[\"image_path\",\"patient_id\", \"src_folder\"], axis=1)\n",
    "\n",
    "train_cnn = train_sampled_df.drop(columns=[\"follow_up_number\", \"patient_id\", \"patient_age\", \"patient_gender\", \"view_position\", \"src_folder\"], axis=1)\n",
    "train_tab = train_sampled_df.drop(columns=[\"image_path\",\"patient_id\", \"src_folder\"], axis=1)\n",
    "\n",
    "val_cnn = val_sampled_df.drop(columns=[\"follow_up_number\", \"patient_id\", \"patient_age\", \"patient_gender\", \"view_position\", \"src_folder\"], axis=1)\n",
    "val_tab = val_sampled_df.drop(columns=[\"image_path\",\"patient_id\", \"src_folder\"], axis=1)"
   ]
  },
  {
   "cell_type": "code",
   "execution_count": 27,
   "id": "4023e2bc",
   "metadata": {},
   "outputs": [],
   "source": [
    "target_cols = [\"follow_up_number\", \"patient_age\"]\n",
    "\n",
    "scaler = StandardScaler()\n",
    "scaler.fit(train_tab[target_cols])\n",
    "\n",
    "train_tab[target_cols] = scaler.transform(train_tab[target_cols])\n",
    "val_tab[target_cols] = scaler.transform(val_tab[target_cols])\n",
    "test_tab[target_cols] = scaler.transform(test_tab[target_cols])"
   ]
  },
  {
   "cell_type": "code",
   "execution_count": 46,
   "id": "283f9e5b",
   "metadata": {},
   "outputs": [],
   "source": [
    "# Split tabular datasets into X and y\n",
    "test_tab_X = test_tab.drop(columns=[feature for feature in labels], axis=1)\n",
    "test_tab_y = test_tab[labels]\n",
    "\n",
    "train_tab_X = train_tab.drop(columns=[feature for feature in labels], axis=1)\n",
    "train_tab_y = train_tab[labels]\n",
    "\n",
    "val_tab_X = val_tab.drop(columns=[feature for feature in labels], axis=1)\n",
    "val_tab_y = val_tab[labels]"
   ]
  },
  {
   "cell_type": "code",
   "execution_count": 47,
   "id": "ebf99e04",
   "metadata": {},
   "outputs": [],
   "source": [
    "# Split CNN dataset into X and y\n",
    "\n",
    "test_cnn_X = test_cnn.drop(columns=[feature for feature in labels], axis=1)\n",
    "test_cnn_y = test_cnn[labels]\n",
    "\n",
    "train_cnn_X = train_cnn.drop(columns=[feature for feature in labels], axis=1)\n",
    "train_cnn_y = train_cnn[labels]\n",
    "\n",
    "val_cnn_X = val_cnn.drop(columns=[feature for feature in labels], axis=1)\n",
    "val_cnn_y = val_cnn[labels]"
   ]
  },
  {
   "cell_type": "code",
   "execution_count": null,
   "id": "9bd57aec",
   "metadata": {},
   "outputs": [],
   "source": [
    "test_cnn_X.to_csv('../data/labels/test_cnn_X.csv')\n",
    "test_cnn_y.to_csv('../data/labels/test_cnn_y.csv')\n",
    "test_tab_X.to_csv('../data/labels/test_tab_X.csv')\n",
    "test_tab_y.to_csv('../data/labels/test_tab_y.csv')\n",
    "\n",
    "train_cnn_X.to_csv('../data/labels/train_cnn_X.csv')\n",
    "train_cnn_y.to_csv('../data/labels/train_cnn_y.csv')\n",
    "train_tab_X.to_csv('../data/labels/train_tab_X.csv')\n",
    "train_tab_y.to_csv('../data/labels/train_tab_y.csv')\n",
    "\n",
    "val_cnn_X.to_csv('../data/labels/val_cnn_X.csv')\n",
    "val_cnn_y.to_csv('../data/labels/val_cnn_y.csv')\n",
    "val_tab_X.to_csv('../data/labels/val_tab_X.csv')\n",
    "val_tab_y.to_csv('../data/labels/val_tab_y.csv')"
   ]
  },
  {
   "cell_type": "markdown",
   "id": "743880f7",
   "metadata": {},
   "source": [
    "## checkpoint"
   ]
  },
  {
   "cell_type": "code",
   "execution_count": 11,
   "id": "04067088",
   "metadata": {},
   "outputs": [],
   "source": [
    "# split data into image and tabular sets\n",
    "\n",
    "test_cnn = test_labels.drop(columns=[\"follow_up_number\", \"patient_id\", \"patient_age\", \"patient_gender\", \"view_position\", \"src_folder\"], axis=1)\n",
    "test_tab = test_labels.drop(columns=[\"image_path\",\"patient_id\", \"src_folder\"], axis=1)\n",
    "\n",
    "train_cnn = train_labels.drop(columns=[\"follow_up_number\", \"patient_id\", \"patient_age\", \"patient_gender\", \"view_position\", \"src_folder\"], axis=1)\n",
    "train_tab = train_labels.drop(columns=[\"image_path\",\"patient_id\", \"src_folder\"], axis=1)\n",
    "\n",
    "val_cnn = val_labels.drop(columns=[\"follow_up_number\", \"patient_id\", \"patient_age\", \"patient_gender\", \"view_position\", \"src_folder\"], axis=1)\n",
    "val_tab = val_labels.drop(columns=[\"image_path\",\"patient_id\", \"src_folder\"], axis=1)"
   ]
  },
  {
   "cell_type": "code",
   "execution_count": 12,
   "id": "1a836490",
   "metadata": {},
   "outputs": [],
   "source": [
    "# standardlize patient_age and follow_up_number features\n",
    "\n",
    "target_cols = [\"follow_up_number\", \"patient_age\"]\n",
    "\n",
    "scaler = StandardScaler()\n",
    "scaler.fit(train_tab[target_cols])\n",
    "\n",
    "train_tab[target_cols] = scaler.transform(train_tab[target_cols])\n",
    "val_tab[target_cols] = scaler.transform(val_tab[target_cols])\n",
    "test_tab[target_cols] = scaler.transform(test_tab[target_cols])"
   ]
  },
  {
   "cell_type": "code",
   "execution_count": 13,
   "id": "b49e6b6b",
   "metadata": {},
   "outputs": [],
   "source": [
    "# Split tabular datasets into X and y\n",
    "test_tab_X = test_tab.drop(columns=[feature for feature in labels], axis=1)\n",
    "test_tab_y = test_tab[labels]\n",
    "\n",
    "train_tab_X = train_tab.drop(columns=[feature for feature in labels], axis=1)\n",
    "train_tab_y = train_tab[labels]\n",
    "\n",
    "val_tab_X = val_tab.drop(columns=[feature for feature in labels], axis=1)\n",
    "val_tab_y = val_tab[labels]"
   ]
  },
  {
   "cell_type": "code",
   "execution_count": 14,
   "id": "a8abcdcb",
   "metadata": {},
   "outputs": [],
   "source": [
    "# Split CNN dataset into X and y\n",
    "\n",
    "test_cnn_X = test_cnn.drop(columns=[feature for feature in labels], axis=1)\n",
    "test_cnn_y = test_cnn[labels]\n",
    "\n",
    "train_cnn_X = train_cnn.drop(columns=[feature for feature in labels], axis=1)\n",
    "train_cnn_y = train_cnn[labels]\n",
    "\n",
    "val_cnn_X = val_cnn.drop(columns=[feature for feature in labels], axis=1)\n",
    "val_cnn_y = val_cnn[labels]"
   ]
  },
  {
   "cell_type": "code",
   "execution_count": 48,
   "id": "1d9b8635",
   "metadata": {},
   "outputs": [],
   "source": [
    "# export files to the labels folder\n",
    "\n",
    "test_cnn_X.to_csv('../data/labels/test_cnn_X.csv')\n",
    "test_cnn_y.to_csv('../data/labels/test_cnn_y.csv')\n",
    "test_tab_X.to_csv('../data/labels/test_tab_X.csv')\n",
    "test_tab_y.to_csv('../data/labels/test_tab_y.csv')\n",
    "\n",
    "train_cnn_X.to_csv('../data/labels/train_cnn_X.csv')\n",
    "train_cnn_y.to_csv('../data/labels/train_cnn_y.csv')\n",
    "train_tab_X.to_csv('../data/labels/train_tab_X.csv')\n",
    "train_tab_y.to_csv('../data/labels/train_tab_y.csv')\n",
    "\n",
    "val_cnn_X.to_csv('../data/labels/val_cnn_X.csv')\n",
    "val_cnn_y.to_csv('../data/labels/val_cnn_y.csv')\n",
    "val_tab_X.to_csv('../data/labels/val_tab_X.csv')\n",
    "val_tab_y.to_csv('../data/labels/val_tab_y.csv')"
   ]
  }
 ],
 "metadata": {
  "kernelspec": {
   "display_name": "Python 3",
   "language": "python",
   "name": "python3"
  },
  "language_info": {
   "codemirror_mode": {
    "name": "ipython",
    "version": 3
   },
   "file_extension": ".py",
   "mimetype": "text/x-python",
   "name": "python",
   "nbconvert_exporter": "python",
   "pygments_lexer": "ipython3",
   "version": "3.13.2"
  }
 },
 "nbformat": 4,
 "nbformat_minor": 5
}
