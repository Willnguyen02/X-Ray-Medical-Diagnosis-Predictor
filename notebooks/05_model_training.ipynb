{
 "cells": [
  {
   "cell_type": "markdown",
   "id": "cda14f04",
   "metadata": {},
   "source": [
    "# Model Training\n",
    "---"
   ]
  },
  {
   "cell_type": "code",
   "execution_count": 9,
   "id": "6723fc8e",
   "metadata": {},
   "outputs": [],
   "source": [
    "import pandas as pd\n",
    "import torch\n",
    "import torch.nn as nn\n",
    "import torch.functional as F\n",
    "import torch.optim as optim\n",
    "from torch.utils.data import DataLoader, TensorDataset"
   ]
  },
  {
   "cell_type": "code",
   "execution_count": 10,
   "id": "1e8a6953",
   "metadata": {},
   "outputs": [],
   "source": [
    "train_labels = pd.read_csv(\"../data/labels/train_labels.csv\")\n",
    "val_labels = pd.read_csv(\"../data/labels/val_labels.csv\")\n",
    "test_labels = pd.read_csv(\"../data/labels/test_labels.csv\")"
   ]
  },
  {
   "cell_type": "markdown",
   "id": "849030a3",
   "metadata": {},
   "source": [
    "## Prototyping"
   ]
  },
  {
   "cell_type": "code",
   "execution_count": 11,
   "id": "5e5f2813",
   "metadata": {},
   "outputs": [],
   "source": [
    "import sys\n",
    "sys.path.append('../scripts')\n",
    "from create_labels import column_order, labels, create_labels\n",
    "from extract_imgs import find_img_folder, locate_imgs\n",
    "\n",
    "train_labels = find_img_folder(train_labels)\n",
    "val_labels = find_img_folder(val_labels)\n",
    "test_labels = find_img_folder(test_labels)"
   ]
  },
  {
   "cell_type": "code",
   "execution_count": 12,
   "id": "9e1e7530",
   "metadata": {},
   "outputs": [
    {
     "name": "stdout",
     "output_type": "stream",
     "text": [
      "Warning: Looks like you're using an outdated `kagglehub` version (installed: 0.3.10), please consider upgrading to the latest version (0.3.12).\n"
     ]
    }
   ],
   "source": [
    "# Testing\n",
    "\n",
    "\n",
    "\n",
    "import os\n",
    "import kagglehub\n",
    "path = kagglehub.dataset_download(\"nih-chest-xrays/data\")\n",
    "from PIL import Image\n",
    "\n",
    "train_imgs_location = []\n",
    "test_imgs_location = []\n",
    "val_imgs_location = []\n"
   ]
  },
  {
   "cell_type": "code",
   "execution_count": 13,
   "id": "04c44d7e",
   "metadata": {},
   "outputs": [],
   "source": [
    "\n",
    "locate_imgs(train_labels, train_imgs_location)\n",
    "locate_imgs(test_labels, test_imgs_location)\n",
    "locate_imgs(val_labels, val_imgs_location)"
   ]
  },
  {
   "cell_type": "code",
   "execution_count": 14,
   "id": "a1d93e49",
   "metadata": {},
   "outputs": [
    {
     "name": "stdout",
     "output_type": "stream",
     "text": [
      "Number of training images: 69208\n",
      "Number of testing images: 25591\n",
      "Number of validation images: 17303\n"
     ]
    }
   ],
   "source": [
    "print(f\"Number of training images: {len(train_imgs_location)}\")\n",
    "print(f\"Number of testing images: {len(test_imgs_location)}\")\n",
    "print(f\"Number of validation images: {len(val_imgs_location)}\")"
   ]
  },
  {
   "cell_type": "code",
   "execution_count": 15,
   "id": "dc229294",
   "metadata": {},
   "outputs": [
    {
     "data": {
      "text/plain": [
       "(1024, 1024)"
      ]
     },
     "execution_count": 15,
     "metadata": {},
     "output_type": "execute_result"
    }
   ],
   "source": [
    "Image.open(train_imgs_location[0]).size"
   ]
  }
 ],
 "metadata": {
  "kernelspec": {
   "display_name": "base",
   "language": "python",
   "name": "python3"
  },
  "language_info": {
   "codemirror_mode": {
    "name": "ipython",
    "version": 3
   },
   "file_extension": ".py",
   "mimetype": "text/x-python",
   "name": "python",
   "nbconvert_exporter": "python",
   "pygments_lexer": "ipython3",
   "version": "3.12.4"
  }
 },
 "nbformat": 4,
 "nbformat_minor": 5
}
